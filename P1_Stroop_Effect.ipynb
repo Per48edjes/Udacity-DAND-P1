{
 "cells": [
  {
   "cell_type": "markdown",
   "metadata": {},
   "source": [
    "# P1: Test a Perceptual Phenomenon\n",
    "## The Stroop Effect"
   ]
  },
  {
   "cell_type": "markdown",
   "metadata": {},
   "source": [
    "**Question 1:** Identify the independent and dependent variables in the experiment."
   ]
  },
  {
   "cell_type": "markdown",
   "metadata": {
    "collapsed": true
   },
   "source": [
    "The _independent_ variable in this experiment is the condition which can be set as \"congruent\" (i.e., the first test where the color of the word matches what the text suggests) or \"incongruent\" (i.e., the second test where the color of the word does not match what the text suggests). The _depedent variable_ is the performance on the test (i.e., amount of time it takes to name, out loud, the color of the inks in which the words are displayed) under the aforementioned conditions (measured in seconds). "
   ]
  },
  {
   "cell_type": "markdown",
   "metadata": {},
   "source": [
    "**Question 2:** Establish the null and alternative hypotheses. Determine and justify the appropriate statistical test."
   ]
  },
  {
   "cell_type": "markdown",
   "metadata": {},
   "source": [
    "The _null_ hypothesis (H<sub>0</sub>) is that there is no difference in the population mean performance between the two conditions. The _alternative_ hypothesis (H<sub>a</sub>) is that there is a difference in the population mean performance between the two conditions. Expressing this using conventional notation:\n",
    "\n",
    "$$H_{0}: \\mu_{congruent} - \\mu_{incongruent} = 0$$\n",
    "$$H_{a}: \\mu_{congruent} - \\mu_{incongruent} \\neq 0$$\n",
    "\n",
    "I believe that the appropriate statistical test for this experiment is a **paired-samples t-test** (also called a **dependent t-test for paired samples**) because the population parameters for expected value and standard deviation are unknown and each datapoint represents the same individual having undergone both conditions. The selection of the hypotheses above indicated a two-tailed test because I'm not familiar with this phenomena and cannot predict _a priori_ a particular direction, but I do think they differences in the means is non-zero given my own performance differential taking the test under the two conditions."
   ]
  },
  {
   "cell_type": "markdown",
   "metadata": {},
   "source": [
    "**Question 3:** Report some descriptive statistics regarding this dataset, including at least one measure of central tendency and at least one measure of variability.\n",
    "\n",
    "> **Note:** I decided to use Python and Jupyter Notebook to help me run the calculations required to execute the paired-samples t-test. I also employed a variety of modules to achieve these same ends to double-check that my process was correct. Plus, this served as a great learning opportunity since I'm pretty new to programming and the subsequent parts of the course call on these tools!"
   ]
  },
  {
   "cell_type": "code",
   "execution_count": 19,
   "metadata": {
    "collapsed": true
   },
   "outputs": [],
   "source": [
    "# These were the modules I used:\n",
    "import csv\n",
    "import numpy as np\n",
    "import matplotlib.pyplot as plt\n",
    "import math\n",
    "import scipy.stats as stats\n",
    "\n",
    "# Plots inline rather than opening a new window\n",
    "%matplotlib inline"
   ]
  },
  {
   "cell_type": "markdown",
   "metadata": {
    "collapsed": true
   },
   "source": [
    "First, I needed to import the data and make the columns manipulable; this was achieved using the code below."
   ]
  },
  {
   "cell_type": "code",
   "execution_count": 20,
   "metadata": {},
   "outputs": [],
   "source": [
    "# Open the provided CSV file and extract the data\n",
    "with open(\"stroopdata.csv\", \"rb\") as f:\n",
    "    reader = csv.DictReader(f)\n",
    "    data_table = list(reader)\n",
    "\n",
    "# Turn extracted data into two numpy arrays\n",
    "congruent_list = []\n",
    "incongruent_list = []\n",
    "for data_point in data_table:\n",
    "    congruent_list.append(float(data_point['Congruent']))\n",
    "    incongruent_list.append(float(data_point['Incongruent']))\n",
    "\n",
    "congruent_array = np.array(congruent_list)\n",
    "incongruent_array = np.array(incongruent_list)\n",
    "\n",
    "data_table_list = [congruent_array, incongruent_array]"
   ]
  },
  {
   "cell_type": "markdown",
   "metadata": {},
   "source": [
    "Then, I generated the descriptive statistics for each column using the functions included in NumPy."
   ]
  },
  {
   "cell_type": "code",
   "execution_count": 21,
   "metadata": {},
   "outputs": [
    {
     "name": "stdout",
     "output_type": "stream",
     "text": [
      "The following statistics describe performance under the Congruent condition for our sample:\n",
      "('Mean: 14.05112', 'Median: 14.35650', 'Variance: 12.66903', 'Standard Deviation: 3.55936', '95% CI: (12.62711, 15.47514)')\n",
      "The following statistics describe performance under the Incongruent condition for our sample:\n",
      "('Mean: 22.01592', 'Median: 21.01750', 'Variance: 23.01176', 'Standard Deviation: 4.79706', '95% CI: (20.09673, 23.93510)')\n"
     ]
    }
   ],
   "source": [
    "i = 0\n",
    "for condition in data_table_list:\n",
    "    mean = np.mean(condition)\n",
    "    median = np.median(condition)\n",
    "    variance = np.var(condition, ddof=1)\n",
    "    std_dev = np.std(condition, ddof=1)\n",
    "    conf_int = stats.norm.interval(0.95, loc=mean, scale=std_dev/math.sqrt(len(condition)))\n",
    "    i = i + 1\n",
    "    if i == 1:\n",
    "        print 'The following statistics describe performance under the Congruent condition for our sample:'\n",
    "    else:\n",
    "        print 'The following statistics describe performance under the Incongruent condition for our sample:'\n",
    "    print(\n",
    "        'Mean: %6.5f' % mean,\n",
    "        'Median: %6.5f' % median,\n",
    "        'Variance: %6.5f' % variance,\n",
    "        'Standard Deviation: %6.5f' % std_dev,\n",
    "        '95%% CI: (%6.5f, %6.5f)' % conf_int\n",
    "    )\n"
   ]
  },
  {
   "cell_type": "markdown",
   "metadata": {},
   "source": [
    "> **Note:** When I perform the t-test a little later, I will be computing similar figures for the differences of each paired data point (i.e., a given individual's \"Incongruent\" score subtracted from his/her \"Congruent\" score)."
   ]
  },
  {
   "cell_type": "markdown",
   "metadata": {},
   "source": [
    "**Question 4:** Provide one or two visualizations that show the distribution of the sample data. Write one or two sentences noting what you observe about the plot or plots."
   ]
  },
  {
   "cell_type": "code",
   "execution_count": 22,
   "metadata": {
    "scrolled": false
   },
   "outputs": [
    {
     "data": {
      "image/png": "[encoded data removed]",
      "text/plain": [
       "<matplotlib.figure.Figure at 0x11c1915d0>"
      ]
     },
     "metadata": {},
     "output_type": "display_data"
    },
    {
     "data": {
      "image/png": "[encoded data removed]",
      "text/plain": [
       "<matplotlib.figure.Figure at 0x11c2a7dd0>"
      ]
     },
     "metadata": {},
     "output_type": "display_data"
    }
   ],
   "source": [
    "# Histogram of the data\n",
    "plt.hist(data_table_list[0], bins='auto', alpha=0.6, label='Congruent')\n",
    "plt.hist(data_table_list[1], bins='auto', alpha=0.6, label='Incongruent')\n",
    "\n",
    "plt.title('Histogram of Task Performance by Condition')\n",
    "plt.ylabel('Frequency')\n",
    "plt.xlabel('Time Bins (seconds)')\n",
    "plt.legend()\n",
    "plt.show()\n",
    "\n",
    "# Scatter plot where each point is a person and their (x, y) values are \n",
    "# their (congruent, incongruent) times, respectively.\n",
    "plt.scatter(congruent_array, incongruent_array)\n",
    "plt.xlim(5,40)\n",
    "plt.ylim(5,40)\n",
    "\n",
    "# Create an identity line for the scatter plot\n",
    "x=np.linspace(0,50)\n",
    "plt.plot(x,x,'k-')\n",
    "plt.title('Pairwise Scores')\n",
    "plt.xlabel('Congruent Score')\n",
    "plt.ylabel('Incongruent Score')\n",
    "\n",
    "# Sets the canvas to be a square\n",
    "plt.gca().set_aspect('equal', adjustable='box')\n",
    "plt.show()"
   ]
  },
  {
   "cell_type": "markdown",
   "metadata": {},
   "source": [
    "The first plot is a histogram of both the \"Congruent\" and \"Incongruent\" scores. It's clear from this plot that the Incongruent scores (measured in seconds) are, on the whole, greater than the Congruent scores. Interestingly, the shapes of the two distributions are also very similar.\n",
    "\n",
    "The scatter plot is quite telling&#8212;we see that _every_ member of our sample does worse on the \"Incongruent\" test relative to his/her performance on the \"Congruent\" test. This seems to confirm the intuition developed by taking the Stroop tests myself, as my performance was also significantly worse on the \"Incongruent\" test. \n",
    "\n",
    "Furthermore, the box-and-whisker plot below does a good job displaying the demonstrable differences in the test subjects' performance under the two conditions."
   ]
  },
  {
   "cell_type": "code",
   "execution_count": 23,
   "metadata": {},
   "outputs": [
    {
     "data": {
      "image/png": "[encoded data removed]",
      "text/plain": [
       "<matplotlib.figure.Figure at 0x11be59bd0>"
      ]
     },
     "metadata": {},
     "output_type": "display_data"
    }
   ],
   "source": [
    "plt.figure()\n",
    "plt.boxplot(data_table_list)\n",
    "plt.xticks([1, 2], ['Congruent', 'Incongruent'])\n",
    "plt.xlabel(\"Condition\")\n",
    "plt.ylabel(\"Performance (secs.)\")\n",
    "\n",
    "plt.show()"
   ]
  },
  {
   "cell_type": "markdown",
   "metadata": {
    "collapsed": true
   },
   "source": [
    "**Question 5:** Perform the statistical test and report your results. What is your confidence level and your critical statistic value? Do you reject the null hypothesis or fail to reject it? Come to a conclusion in terms of the experiment task. Did the results match up with your expectations?"
   ]
  },
  {
   "cell_type": "code",
   "execution_count": 24,
   "metadata": {},
   "outputs": [
    {
     "name": "stdout",
     "output_type": "stream",
     "text": [
      "The mean of the differences is -7.96479.\n",
      "The standard deviation of the differences is 4.86483.\n",
      "The standard error of the mean differences is 0.99303.\n",
      "The 95% CI for the mean differences is (-9.91109, -6.01849).\n",
      "Note that the degrees of freedom for this test is 23.\n",
      "The t-statistic is -8.02071.\n",
      "The t-critical value is 2.06866.\n",
      "For alpha = 0.5 for a two-tail t-test, we can...\n",
      "...reject the null hypothesis\n"
     ]
    }
   ],
   "source": [
    "# Create a column consisting of the paired differences\n",
    "differences_array = np.subtract(congruent_array, incongruent_array)\n",
    "\n",
    "# Compute the different values needed to perform 2-tailed t-test\n",
    "mean_differences = np.mean(differences_array)\n",
    "print 'The mean of the differences is %6.5f.' %mean_differences\n",
    "std_dev_differences = np.std(differences_array, ddof=1)\n",
    "print 'The standard deviation of the differences is %6.5f.' %std_dev_differences\n",
    "standard_error = std_dev_differences / math.sqrt(len(data_table))\n",
    "print 'The standard error of the mean differences is %6.5f.' %standard_error\n",
    "conf_int_differences = stats.norm.interval(0.95, loc=mean_differences, scale=std_dev_differences/math.sqrt(len(differences_array)))\n",
    "print 'The 95%% CI for the mean differences is (%6.5f, %6.5f).' %conf_int_differences\n",
    "DoF_ttest = len(data_table) - 1\n",
    "print 'Note that the degrees of freedom for this test is %.0f.' %DoF_ttest\n",
    "\n",
    "# Compute the t-statistic\n",
    "t_stat = mean_differences / standard_error\n",
    "print 'The t-statistic is %6.5f.' %t_stat\n",
    "\n",
    "# Find the t-critical value for a 2-tailed t-test at alpha = 0.5 using SciPy.\n",
    "# The argument for the t-critical value function takes 2.5% because we're doing a 2-tailed test.\n",
    "t_critical = stats.t.isf([0.025], DoF_ttest)\n",
    "print 'The t-critical value is %6.5f.' %t_critical\n",
    "\n",
    "# Determine whether to retain or reject the null hypothesis\n",
    "print 'For alpha = 0.5 for a two-tail t-test, we can...'\n",
    "if abs(t_stat) > abs(t_critical):\n",
    "    print '...reject the null hypothesis'\n",
    "else:\n",
    "    print '...retain the null hypothesis'"
   ]
  },
  {
   "cell_type": "markdown",
   "metadata": {},
   "source": [
    "To check my answer, I used the corresponding, built-in t-test function contained in the SciPy module:"
   ]
  },
  {
   "cell_type": "code",
   "execution_count": 25,
   "metadata": {},
   "outputs": [
    {
     "name": "stdout",
     "output_type": "stream",
     "text": [
      "The t-statistic is -8.02071; the p-value is 0.00000.\n"
     ]
    }
   ],
   "source": [
    "print 'The t-statistic is %.5f; the p-value is %.5f.' % stats.ttest_rel(congruent_array, incongruent_array)"
   ]
  },
  {
   "cell_type": "markdown",
   "metadata": {},
   "source": [
    "## Conclusion"
   ]
  },
  {
   "cell_type": "markdown",
   "metadata": {},
   "source": [
    "These results are consistent with my initial hunch (informed by my own experience taking the test and reflected in the null hypothesis) that the means of the times under the two conditions would be materially different. In fact, we can say that difference in the means is _statistically significant_ at for $\\alpha = 0.05$ and that the null hypothesis outlined earlier is to be rejected since $ p < \\alpha$, where $p$ denotes the p-value.  "
   ]
  },
  {
   "cell_type": "markdown",
   "metadata": {},
   "source": [
    "**Question 6:** Hypotheses regarding the reasons for the effect observed are presented. An extension or related experiment to the performed Stroop task is provided, that may produce similar effects."
   ]
  },
  {
   "cell_type": "markdown",
   "metadata": {},
   "source": [
    "My guess is that the processing to required to properly handle the inputs (e.g., `PURPLE` in red ink) is in conflict in someway, which the brain then has to reconcile, before rendering the output (i.e., saying \"red\"). In the context of this specific task, one process at work is recognizing and comprehending the text itself while the another, different process is recognizing and associating the color. When these give conflicting results, additional processing yields a slower response. \n",
    "\n",
    "One possible way to replicate this test would be to have a \"stoplight\" of sorts with the text `GO` and `STOP` at first (hence, \"Congruent\" condition) corresponding to the correct associated colors (e.g., [green, red] in the United States for [`GO`, `STOP`], respectively). The \"Incongruent\" condition would have the text displayed with the opposite color. Participants could take a step (or move) following the correct directions (contained in the text, NOT the color). Errors could then be counted in a similar fashion to the Stroop task.  "
   ]
  },
  {
   "cell_type": "markdown",
   "metadata": {},
   "source": [
    "## References"
   ]
  },
  {
   "cell_type": "markdown",
   "metadata": {},
   "source": [
    "* Udacity _Introduction to Data Analysis_ course, [\"CSVs in Python\"](https://classroom.udacity.com/courses/ud170/lessons/5430778793/concepts/53961386130923#)\n",
    "* Various documentation:\n",
    " * [SciPy, Numpy](https://docs.scipy.org/)\n",
    " * [matplotlib](http://matplotlib.org/api/index.html)\n",
    "* StackExchange"
   ]
  }
 ],
 "metadata": {
  "kernelspec": {
   "display_name": "Python [conda env:DAND]",
   "language": "python",
   "name": "conda-env-DAND-py"
  },
  "language_info": {
   "codemirror_mode": {
    "name": "ipython",
    "version": 2
   },
   "file_extension": ".py",
   "mimetype": "text/x-python",
   "name": "python",
   "nbconvert_exporter": "python",
   "pygments_lexer": "ipython2",
   "version": "2.7.14"
  }
 },
 "nbformat": 4,
 "nbformat_minor": 2
}
